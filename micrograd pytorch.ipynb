{
 "cells": [
  {
   "cell_type": "code",
   "execution_count": 15,
   "metadata": {},
   "outputs": [],
   "source": [
    "import torch\n",
    "import math\n",
    "import numpy as np\n",
    "import matplotlib.pyplot as plt\n",
    "%matplotlib inline\n",
    "import random"
   ]
  },
  {
   "cell_type": "code",
   "execution_count": 4,
   "metadata": {},
   "outputs": [
    {
     "name": "stdout",
     "output_type": "stream",
     "text": [
      "0.7071066904050358\n",
      "---\n",
      "x2 0.5000001283844369\n",
      "w2 0.0\n",
      "x1 -1.5000003851533106\n",
      "w1 1.0000002567688737\n"
     ]
    }
   ],
   "source": [
    "# matches our graphed gradients when implementing micrograd from scratch\n",
    "x1 = torch.Tensor([2.0]).double()                ; x1.requires_grad = True\n",
    "x2 = torch.Tensor([0.0]).double()                ; x2.requires_grad = True\n",
    "w1 = torch.Tensor([-3.0]).double()               ; w1.requires_grad = True\n",
    "w2 = torch.Tensor([1.0]).double()                ; w2.requires_grad = True\n",
    "b = torch.Tensor([6.8813735870195432]).double()  ; b.requires_grad = True\n",
    "n = x1*w1 + x2*w2 + b\n",
    "o = torch.tanh(n)\n",
    "\n",
    "print(o.data.item())\n",
    "o.backward()\n",
    "\n",
    "print('---')\n",
    "print('x2', x2.grad.item())\n",
    "print('w2', w2.grad.item())\n",
    "print('x1', x1.grad.item())\n",
    "print('w1', w1.grad.item())"
   ]
  },
  {
   "cell_type": "code",
   "execution_count": 3,
   "metadata": {},
   "outputs": [
    {
     "data": {
      "text/plain": [
       "tensor([[1., 2., 3.],\n",
       "        [4., 5., 6.]])"
      ]
     },
     "execution_count": 3,
     "metadata": {},
     "output_type": "execute_result"
    }
   ],
   "source": [
    "torch.Tensor([[1, 2, 3], [4, 5, 6]])"
   ]
  },
  {
   "cell_type": "code",
   "execution_count": 6,
   "metadata": {},
   "outputs": [
    {
     "data": {
      "text/plain": [
       "tensor([-1.5000], dtype=torch.float64)"
      ]
     },
     "execution_count": 6,
     "metadata": {},
     "output_type": "execute_result"
    }
   ],
   "source": [
    "x1.grad"
   ]
  },
  {
   "cell_type": "code",
   "execution_count": 7,
   "metadata": {},
   "outputs": [
    {
     "data": {
      "text/plain": [
       "0.7071066904050358"
      ]
     },
     "execution_count": 7,
     "metadata": {},
     "output_type": "execute_result"
    }
   ],
   "source": [
    "o.item()"
   ]
  },
  {
   "cell_type": "code",
   "execution_count": 67,
   "metadata": {},
   "outputs": [],
   "source": [
    "# allow for addition of constants plus value objects\n",
    "# ex: a = Value(2.0)\n",
    "#     a + 1\n",
    "\n",
    "class Value:\n",
    "    \n",
    "    def __init__(self, data, _children=(), _op='', label=''):\n",
    "        self.data = data\n",
    "        self.grad = 0.0\n",
    "        self._backward = lambda: None\n",
    "        self._prev = set(_children)\n",
    "        self._op = _op\n",
    "        self.label = label\n",
    "        \n",
    "        \n",
    "    def __repr__(self):\n",
    "        return f\"Value(data={self.data})\"\n",
    "    \n",
    "    \n",
    "    def __add__(self, other):\n",
    "        other = other if isinstance(other, Value) else Value(other)\n",
    "        out = Value(self.data + other.data, (self, other), '+')\n",
    "\n",
    "        def _backward():\n",
    "            self.grad += 1.0 * out.grad\n",
    "            other.grad += 1.0 * out.grad\n",
    "        out._backward = _backward\n",
    "\n",
    "        return out\n",
    "    \n",
    "    \n",
    "    def __neg__(self):\n",
    "        return self * -1\n",
    "    \n",
    "    \n",
    "    def __sub__(self, other):\n",
    "        return self + (-other)\n",
    "    \n",
    "    \n",
    "    def __mul__(self, other):\n",
    "        other = other if isinstance(other, Value) else Value(other)\n",
    "        out = Value(self.data * other.data, (self, other), '*')\n",
    "        \n",
    "        def _backward():\n",
    "            self.grad += other.data * out.grad\n",
    "            other.grad += self.data * out.grad\n",
    "        out._backward = _backward\n",
    "        \n",
    "        return out\n",
    "    \n",
    "    \n",
    "    def __rmul__(self, other): # other * self\n",
    "        return self * other\n",
    "    \n",
    "    \n",
    "    def __pow__(self, other):\n",
    "        assert isinstance(other, (int, float)), \"only supporting int/float powers for now\"\n",
    "        out = Value(self.data**other, (self, ), f'**{other}')\n",
    "        \n",
    "        def _backward():\n",
    "            self.grad += other * (self.data ** (other - 1)) * out.grad\n",
    "        out._backward = _backward\n",
    "        \n",
    "        return out\n",
    "    \n",
    "    \n",
    "    def __truediv__(self, other):\n",
    "        return self * other**-1\n",
    "    \n",
    "    \n",
    "    def tanh(self):\n",
    "        x = self.data\n",
    "        t = (math.exp(2*x) - 1) / (math.exp(2*x) + 1)\n",
    "        out = Value(t, (self, ), 'tanh')\n",
    "        \n",
    "        def _backward():\n",
    "            self.grad += (1 - t**2) * out.grad\n",
    "        out._backward = _backward\n",
    "        \n",
    "        return out\n",
    "    \n",
    "    \n",
    "    def exp(self):\n",
    "        x = self.data\n",
    "        out = Value(math.exp(x), (self, ), 'exp')\n",
    "        \n",
    "        def _backward():\n",
    "            self.grad += out.data * out.grad\n",
    "        out._backward = _backward\n",
    "        \n",
    "        return out\n",
    "    \n",
    "    \n",
    "    def backward(self):\n",
    "        \n",
    "        topo = []\n",
    "        visited = set()\n",
    "        def build_topo(v):\n",
    "            if v not in visited:\n",
    "                visited.add(v)\n",
    "                for child in v._prev:\n",
    "                    build_topo(child)\n",
    "                topo.append(v)\n",
    "        build_topo(self)\n",
    "        \n",
    "        self.grad = 1.0\n",
    "        for node in reversed(topo):\n",
    "            node._backward()"
   ]
  },
  {
   "cell_type": "code",
   "execution_count": 102,
   "metadata": {},
   "outputs": [],
   "source": [
    "class Neuron:\n",
    "    \n",
    "    def __init__(self, nin):\n",
    "        self.w = [Value(random.uniform(-1,1)) for _ in range(nin)]\n",
    "        self.b = Value(random.uniform(-1,1))\n",
    "        \n",
    "    def __call__(self, x):\n",
    "        # w * x + b\n",
    "        act = sum((wi*xi for wi, xi in zip(self.w, x)), self.b)\n",
    "        out = act.tanh()\n",
    "        return out\n",
    "    \n",
    "    def parameters(self):\n",
    "        return self.w + [self.b]\n",
    "    \n",
    "class Layer:\n",
    "    \n",
    "    def __init__(self, nin, nout):\n",
    "        self.neurons = [Neuron(nin) for _ in range(nout)]\n",
    "        \n",
    "    def __call__(self, x):\n",
    "        outs = [n(x) for n in self.neurons]\n",
    "        return outs[0] if len(outs) == 1 else outs\n",
    "        \n",
    "    def parameters(self):\n",
    "        return [p for neuron in self.neurons for p in neuron.parameters()]\n",
    "        #params = []\n",
    "        #for neuron in self.neurons:\n",
    "        #    ps = neuron.parameters()\n",
    "        #    params.extend(ps)\n",
    "        #return params\n",
    "        \n",
    "class MLP:\n",
    "    \n",
    "    def __init__(self, nin, nouts):\n",
    "        sz = [nin] + nouts\n",
    "        self.layers = [Layer(sz[i], sz[i+1]) for i in range(len(nouts))]\n",
    "        \n",
    "    def __call__(self, x):\n",
    "        for layer in self.layers:\n",
    "            x = layer(x)\n",
    "        return x\n",
    "    \n",
    "    def parameters(self):\n",
    "        return [p for layer in self.layers for p in layer.parameters()]"
   ]
  },
  {
   "cell_type": "code",
   "execution_count": 173,
   "metadata": {},
   "outputs": [
    {
     "data": {
      "text/plain": [
       "Value(data=0.6661958020788785)"
      ]
     },
     "execution_count": 173,
     "metadata": {},
     "output_type": "execute_result"
    }
   ],
   "source": [
    "x = [2.0, 3.0, -1.0]\n",
    "n = MLP(3, [4, 4, 1])  # 3 input neurons, into two layers of 4, and 1 output neuron\n",
    "n(x) # forward pass of multi layer perceptron"
   ]
  },
  {
   "cell_type": "code",
   "execution_count": 174,
   "metadata": {},
   "outputs": [
    {
     "data": {
      "text/plain": [
       "[Value(data=0.896130422368818),\n",
       " Value(data=0.20769674622905265),\n",
       " Value(data=0.1485489367438786),\n",
       " Value(data=0.2909305199544028),\n",
       " Value(data=0.8645981081266256),\n",
       " Value(data=0.9474079772106976),\n",
       " Value(data=0.5612266347796129),\n",
       " Value(data=0.019048446096525007),\n",
       " Value(data=-0.2916225445035572),\n",
       " Value(data=0.28102416572565225),\n",
       " Value(data=-0.4356700547953818),\n",
       " Value(data=0.9664279670670877),\n",
       " Value(data=-0.47607379592025945),\n",
       " Value(data=-0.6913514485722017),\n",
       " Value(data=0.4396528035314051),\n",
       " Value(data=0.01299648222536165),\n",
       " Value(data=-0.4762178346236092),\n",
       " Value(data=-0.804739705362499),\n",
       " Value(data=-0.27676381255480664),\n",
       " Value(data=-0.549610035989526),\n",
       " Value(data=-0.3568875455357201),\n",
       " Value(data=0.3388231593445177),\n",
       " Value(data=0.38391596015736984),\n",
       " Value(data=0.6416790514617219),\n",
       " Value(data=-0.9961448228158007),\n",
       " Value(data=-0.9135616078364512),\n",
       " Value(data=0.4673820169484937),\n",
       " Value(data=0.2784093966809067),\n",
       " Value(data=-0.3550910574538064),\n",
       " Value(data=0.872905024339389),\n",
       " Value(data=-0.5409596662151321),\n",
       " Value(data=-0.10362594046063478),\n",
       " Value(data=-0.6355597377548825),\n",
       " Value(data=0.5725466058133772),\n",
       " Value(data=-0.6473481730531523),\n",
       " Value(data=-0.333097115219418),\n",
       " Value(data=-0.6061310157461735),\n",
       " Value(data=-0.8546331939217149),\n",
       " Value(data=-0.9134839225369866),\n",
       " Value(data=-0.7178116454696772),\n",
       " Value(data=0.4120314525413893)]"
      ]
     },
     "execution_count": 174,
     "metadata": {},
     "output_type": "execute_result"
    }
   ],
   "source": [
    "n.parameters() # all of the weights and biases inside the MLP"
   ]
  },
  {
   "cell_type": "code",
   "execution_count": 253,
   "metadata": {},
   "outputs": [],
   "source": [
    "# example dataset\n",
    "# this dataset has 4 examples, 4 possible inputs:\n",
    "xs = [\n",
    "    [2.0, 3.0, -1.0],\n",
    "    [3.0, -1.0, 0.5],\n",
    "    [0.5, 1.0, 1.0],\n",
    "    [1.0, 1.0, -1.0],\n",
    "]\n",
    "\n",
    "# desired outputs\n",
    "# saying this should be the output for each corresponding input (4 options)\n",
    "ys = [1.0, -1.0, -1.0, 1.0]"
   ]
  },
  {
   "cell_type": "code",
   "execution_count": 254,
   "metadata": {},
   "outputs": [
    {
     "data": {
      "text/plain": [
       "[Value(data=1.0), Value(data=-1.0), Value(data=-1.0), Value(data=1.0)]"
      ]
     },
     "execution_count": 254,
     "metadata": {},
     "output_type": "execute_result"
    }
   ],
   "source": [
    "ypred = [n(x) for x in xs]\n",
    "ypred"
   ]
  },
  {
   "cell_type": "code",
   "execution_count": 177,
   "metadata": {},
   "outputs": [
    {
     "name": "stdout",
     "output_type": "stream",
     "text": [
      "Value(data=0.11142524254976324)\n",
      "Value(data=3.6470931844314918)\n",
      "Value(data=3.3888825914937257)\n",
      "Value(data=0.10830742580990207)\n"
     ]
    },
    {
     "data": {
      "text/plain": [
       "Value(data=7.255708444284882)"
      ]
     },
     "execution_count": 177,
     "metadata": {},
     "output_type": "execute_result"
    }
   ],
   "source": [
    "loss_list = [(yout - ygt)**2 for ygt, yout in zip(ys, ypred)]\n",
    "loss = Value(0.0)\n",
    "for i in loss_list: \n",
    "    print(i)\n",
    "    loss += i\n",
    "loss"
   ]
  },
  {
   "cell_type": "code",
   "execution_count": 178,
   "metadata": {},
   "outputs": [],
   "source": [
    "loss.backward()"
   ]
  },
  {
   "cell_type": "code",
   "execution_count": 179,
   "metadata": {},
   "outputs": [
    {
     "data": {
      "text/plain": [
       "-0.08854019046144276"
      ]
     },
     "execution_count": 179,
     "metadata": {},
     "output_type": "execute_result"
    }
   ],
   "source": [
    "n.layers[0].neurons[0].w[0].grad"
   ]
  },
  {
   "cell_type": "code",
   "execution_count": 180,
   "metadata": {},
   "outputs": [
    {
     "data": {
      "text/plain": [
       "0.896130422368818"
      ]
     },
     "execution_count": 180,
     "metadata": {},
     "output_type": "execute_result"
    }
   ],
   "source": [
    "n.layers[0].neurons[0].w[0].data"
   ]
  },
  {
   "cell_type": "code",
   "execution_count": 244,
   "metadata": {},
   "outputs": [
    {
     "name": "stdout",
     "output_type": "stream",
     "text": [
      "Value(data=1.553081012909185e-05)\n",
      "Value(data=0.014116434925631234)\n",
      "Value(data=0.00545553015383858)\n",
      "Value(data=1.7854847091108306e-05)\n"
     ]
    },
    {
     "data": {
      "text/plain": [
       "Value(data=0.01960535073669001)"
      ]
     },
     "execution_count": 244,
     "metadata": {},
     "output_type": "execute_result"
    }
   ],
   "source": [
    "# forward pass\n",
    "ypred = [n(x) for x in xs]\n",
    "\n",
    "loss_list = [(yout - ygt)**2 for ygt, yout in zip(ys, ypred)]\n",
    "loss = Value(0.0)\n",
    "for i in loss_list: \n",
    "    print(i)\n",
    "    loss += i\n",
    "loss"
   ]
  },
  {
   "cell_type": "code",
   "execution_count": 245,
   "metadata": {},
   "outputs": [],
   "source": [
    "# backward pass\n",
    "loss.backward()"
   ]
  },
  {
   "cell_type": "code",
   "execution_count": 246,
   "metadata": {},
   "outputs": [],
   "source": [
    "# nudge (modify to get closer to target)\n",
    "for p in n.parameters():\n",
    "    p.data += -0.01 * p.grad # want to travel in opposite direction of gradient to minimize loss"
   ]
  },
  {
   "cell_type": "code",
   "execution_count": 247,
   "metadata": {},
   "outputs": [
    {
     "data": {
      "text/plain": [
       "[Value(data=0.9960590851152186),\n",
       " Value(data=-0.8811873957627759),\n",
       " Value(data=-0.9261384392675149),\n",
       " Value(data=0.9957745003737891)]"
      ]
     },
     "execution_count": 247,
     "metadata": {},
     "output_type": "execute_result"
    }
   ],
   "source": [
    "ypred\n",
    "# Now that the loss is very low, the output values almost match the target output ys"
   ]
  },
  {
   "cell_type": "code",
   "execution_count": 248,
   "metadata": {},
   "outputs": [
    {
     "data": {
      "text/plain": [
       "[Value(data=0.48020607119603076),\n",
       " Value(data=-0.08465864992077649),\n",
       " Value(data=1.4883492005950762),\n",
       " Value(data=0.21285633429543402),\n",
       " Value(data=0.8744311138512532),\n",
       " Value(data=0.6489052333744061),\n",
       " Value(data=0.9936469304215929),\n",
       " Value(data=-0.09864017440740246),\n",
       " Value(data=-0.504313058689415),\n",
       " Value(data=0.5593936628729803),\n",
       " Value(data=-0.6698746904605593),\n",
       " Value(data=0.932272391605097),\n",
       " Value(data=-0.3172493342909981),\n",
       " Value(data=-0.28382432131066004),\n",
       " Value(data=1.0772362838210006),\n",
       " Value(data=0.4320026353903077),\n",
       " Value(data=-0.42407553825597905),\n",
       " Value(data=-0.7320246658993985),\n",
       " Value(data=-0.6331566791035429),\n",
       " Value(data=-0.3561235903014128),\n",
       " Value(data=-0.3106647093489745),\n",
       " Value(data=1.7410850836761511),\n",
       " Value(data=1.8888585368660638),\n",
       " Value(data=0.6879204618206212),\n",
       " Value(data=-1.6951300327506547),\n",
       " Value(data=0.6356015686013462),\n",
       " Value(data=1.0503160164102476),\n",
       " Value(data=0.9934376184767668),\n",
       " Value(data=-2.4351674200405315),\n",
       " Value(data=2.1437519453673874),\n",
       " Value(data=0.03784560657474831),\n",
       " Value(data=0.13413717303152697),\n",
       " Value(data=-0.20200354157504838),\n",
       " Value(data=-0.027751802600250834),\n",
       " Value(data=-0.400959702364104),\n",
       " Value(data=0.08516948190107324),\n",
       " Value(data=-0.3731472205980954),\n",
       " Value(data=0.3443856935522742),\n",
       " Value(data=-2.157990811748091),\n",
       " Value(data=1.7352181825911948),\n",
       " Value(data=0.27792257803823395)]"
      ]
     },
     "execution_count": 248,
     "metadata": {},
     "output_type": "execute_result"
    }
   ],
   "source": [
    "n.parameters()\n",
    "# these are the weights and biases of the MLP that are being used to adjust to reach this loss"
   ]
  },
  {
   "cell_type": "code",
   "execution_count": null,
   "metadata": {},
   "outputs": [],
   "source": []
  },
  {
   "cell_type": "code",
   "execution_count": 255,
   "metadata": {},
   "outputs": [
    {
     "data": {
      "text/plain": [
       "Value(data=0.5350786600275635)"
      ]
     },
     "execution_count": 255,
     "metadata": {},
     "output_type": "execute_result"
    }
   ],
   "source": [
    "# reset neural net\n",
    "x = [2.0, 3.0, -1.0]\n",
    "n = MLP(3, [4, 4, 1])  # 3 input neurons, into two layers of 4, and 1 output neuron\n",
    "n(x) # forward pass of multi layer perceptron"
   ]
  },
  {
   "cell_type": "code",
   "execution_count": 256,
   "metadata": {},
   "outputs": [
    {
     "data": {
      "text/plain": [
       "[Value(data=0.5350786600275635),\n",
       " Value(data=0.7078196020751478),\n",
       " Value(data=-0.24768800313367445),\n",
       " Value(data=0.672108268907658)]"
      ]
     },
     "execution_count": 256,
     "metadata": {},
     "output_type": "execute_result"
    }
   ],
   "source": [
    "# data stays the same\n",
    "xs = [\n",
    "    [2.0, 3.0, -1.0],\n",
    "    [3.0, -1.0, 0.5],\n",
    "    [0.5, 1.0, 1.0],\n",
    "    [1.0, 1.0, -1.0],\n",
    "]\n",
    "ys = [1.0, -1.0, -1.0, 1.0]\n",
    "\n",
    "ypred = [n(x) for x in xs]\n",
    "ypred"
   ]
  },
  {
   "cell_type": "code",
   "execution_count": 261,
   "metadata": {},
   "outputs": [
    {
     "name": "stdout",
     "output_type": "stream",
     "text": [
      "0 0.042282670218117054\n",
      "1 0.04081737601449683\n",
      "2 0.0394419153456522\n",
      "3 0.038148596793736216\n",
      "4 0.03693056134016767\n",
      "5 0.035781674634878254\n",
      "6 0.03469643536029679\n",
      "7 0.0336698969815352\n",
      "8 0.03269760067855878\n",
      "9 0.031775517657955436\n",
      "10 0.03089999936375794\n",
      "11 0.03006773436581805\n",
      "12 0.029275710913726397\n",
      "13 0.028521184314463342\n",
      "14 0.02780164843084027\n",
      "15 0.02711481071157406\n",
      "16 0.026458570257449795\n",
      "17 0.025830998505337335\n",
      "18 0.02523032217591267\n",
      "19 0.024654908184249466\n"
     ]
    }
   ],
   "source": [
    "# no more manual adjusting\n",
    "\n",
    "# gradient descent:\n",
    "for k in range(20):\n",
    "    \n",
    "    # forward pass\n",
    "    ypred = [n(x) for x in xs]\n",
    "\n",
    "    loss_list = [(yout - ygt)**2 for ygt, yout in zip(ys, ypred)]\n",
    "    loss = Value(0.0)\n",
    "    for i in loss_list: loss += i\n",
    "    \n",
    "    # backward pass\n",
    "    # make sure to reset gradients on every pass to avoid bug\n",
    "    for p in n.parameters():\n",
    "        p.grad = 0.0\n",
    "    loss.backward()\n",
    "    \n",
    "    # update\n",
    "    for p in n.parameters():\n",
    "        p.data += -0.05 * p.grad\n",
    "    \n",
    "    print(k, loss.data)"
   ]
  },
  {
   "cell_type": "code",
   "execution_count": 262,
   "metadata": {},
   "outputs": [
    {
     "data": {
      "text/plain": [
       "[Value(data=0.9352039947486268),\n",
       " Value(data=-0.891586159348699),\n",
       " Value(data=-0.9463042158468494),\n",
       " Value(data=0.923713777081795)]"
      ]
     },
     "execution_count": 262,
     "metadata": {},
     "output_type": "execute_result"
    }
   ],
   "source": [
    "ypred"
   ]
  },
  {
   "cell_type": "code",
   "execution_count": null,
   "metadata": {},
   "outputs": [],
   "source": []
  }
 ],
 "metadata": {
  "kernelspec": {
   "display_name": "torch_kernel",
   "language": "python",
   "name": "torch_kernel"
  },
  "language_info": {
   "codemirror_mode": {
    "name": "ipython",
    "version": 3
   },
   "file_extension": ".py",
   "mimetype": "text/x-python",
   "name": "python",
   "nbconvert_exporter": "python",
   "pygments_lexer": "ipython3",
   "version": "3.11.7"
  }
 },
 "nbformat": 4,
 "nbformat_minor": 4
}
